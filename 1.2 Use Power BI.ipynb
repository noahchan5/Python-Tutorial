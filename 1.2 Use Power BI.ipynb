{
 "cells": [
  {
   "cell_type": "markdown",
   "id": "ea574c1c",
   "metadata": {},
   "source": [
    "### Use Power BI\n",
    "\n",
    "\n",
    "Now that we've introduced the basics of Microsoft Power BI, let's jump into some hands-on experiences and a guided tour.\n",
    "\n",
    "The activities and analyses that you'll learn with Power BI generally follow a common flow. The common flow of activity looks like this:\n",
    "\n",
    "+ Bring data into Power BI Desktop, and create a report.\n",
    "+ Publish to the Power BI service, where you can create new visualizations or build dashboards.\n",
    "+ Share dashboards with others, especially people who are on the go.\n",
    "+ View and interact with shared dashboards and reports in Power BI Mobile apps.\n",
    "\n",
    "![](https://docs.microsoft.com/en-us/learn/modules/get-started-with-power-bi/media/pbi-using_01.png)\n",
    "\n",
    "As mentioned earlier, you might spend all your time in the Power BI service, viewing visuals and reports that have been created by others. And that's fine. Someone else on your team might spend their time in Power BI Desktop, which is fine too. To help you understand the full continuum of Power BI and what it can do, we'll show you all of it. Then you can decide how to use it to your best advantage.\n",
    "\n",
    "So, let's jump in and step through the experience. Your first order of business is to learn the basic building blocks of Power BI, which will provide a solid basis for turning data into cool reports and visuals."
   ]
  },
  {
   "cell_type": "code",
   "execution_count": null,
   "id": "ae4a327e",
   "metadata": {},
   "outputs": [],
   "source": []
  }
 ],
 "metadata": {
  "kernelspec": {
   "display_name": "Python 3 (ipykernel)",
   "language": "python",
   "name": "python3"
  },
  "language_info": {
   "codemirror_mode": {
    "name": "ipython",
    "version": 3
   },
   "file_extension": ".py",
   "mimetype": "text/x-python",
   "name": "python",
   "nbconvert_exporter": "python",
   "pygments_lexer": "ipython3",
   "version": "3.9.7"
  }
 },
 "nbformat": 4,
 "nbformat_minor": 5
}
