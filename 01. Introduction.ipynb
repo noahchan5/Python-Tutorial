{
 "cells": [
  {
   "cell_type": "markdown",
   "id": "ba012828",
   "metadata": {},
   "source": [
    "### Introduction\n",
    "\n",
    "As a data analyst, you are on a journey. Think about all the data that is being generated each day and that is available in an organization, from transactional data in a traditional database, telemetry data from services that you use, to signals that you get from different areas like social media.\n",
    "\n",
    "![](https://docs.microsoft.com/en-us/learn/modules/data-analytics-microsoft/media/abundance-data-ss.png#lightbox)\n",
    "\n",
    "For example, today's retail businesses collect and store massive amounts of data that track the items you browsed and purchased, the pages you've visited on their site, the aisles you purchase products from, your spending habits, and much more.\n",
    "\n",
    "With data and information as the most strategic asset of a business, the underlying challenge that organizations have today is understanding and using their data to positively affect change within the business. Businesses continue to struggle to use their data in a meaningful and productive way, which impacts their ability to act.\n",
    "\n",
    "A retail business should be able to use their vast amounts of data and information in such a way that impacts the business, including:\n",
    "\n",
    "+ Tracking inventory\n",
    "+ Identifying purchase habits\n",
    "+ Detecting user trends and patterns\n",
    "+ Recommending purchases\n",
    "+ Determining price optimizations\n",
    "+ Identifying and stopping fraud\n",
    "\n",
    "Additionally, you might be looking for daily/monthly sale patterns. Common data segments that you might want to examine include day-over-day, week-over-week, and month-over-month so that you can compare how sales have been to where they were in the same week last year, for example.\n",
    "\n",
    "The key to unlocking this data is being able to tell a story with it. In today's highly competitive and fast-paced business world, crafting reports that tell that story is what helps business leaders take action on the data. Business decision makers depend on an accurate story to drive better business decisions. The faster a business can make precise decisions, the more competitive they will be and the better advantage they will have. Without the story, it is difficult to understand what the data is trying to tell you.\n",
    "\n",
    "However, having data alone is not enough. You need to be able to act on the data to affect change within the business. That action could involve reallocating resources within the business to accommodate a need, or it could be identifying a failing campaign and knowing when to change course. These situations are where telling a story with your data is important.\n",
    "\n",
    "The underlying challenge that businesses face today is understanding and using their data in such a way that impacts their business and ultimately their bottom line. You need to be able to look at the data and facilitate trusted business decisions. Then, you need the ability to look at metrics and clearly understand the meaning behind those metrics.\n",
    "\n",
    "This requirement might seem daunting, but it's a task that you can accomplish. Your first step is to partner with data experts within your organization, such as data engineers and data scientists, to help get the data that you need to tell that story. Ask these experts to participate in that data journey with you.\n",
    "\n",
    "Your journey of telling a story with data also ties into building that data culture within your organization. While telling the story is important, where that story is told is also crucial, ensuring that the story is told to the right people. Also, make sure that people can discover the story, that they know where to find it, and that it is part of the regular interactions.\n",
    "\n",
    "Data analysis exists to help overcome these challenges and pain points, ultimately assisting businesses in finding insights and uncovering hidden value in troves of data through storytelling. As you read on, you will learn how to use and apply analytical skills to go beyond a single report and help impact and influence your organization by telling stories with data and driving that data culture.\n"
   ]
  },
  {
   "cell_type": "code",
   "execution_count": null,
   "id": "cf7701f4",
   "metadata": {},
   "outputs": [],
   "source": []
  }
 ],
 "metadata": {
  "kernelspec": {
   "display_name": "Python 3 (ipykernel)",
   "language": "python",
   "name": "python3"
  },
  "language_info": {
   "codemirror_mode": {
    "name": "ipython",
    "version": 3
   },
   "file_extension": ".py",
   "mimetype": "text/x-python",
   "name": "python",
   "nbconvert_exporter": "python",
   "pygments_lexer": "ipython3",
   "version": "3.9.7"
  }
 },
 "nbformat": 4,
 "nbformat_minor": 5
}
