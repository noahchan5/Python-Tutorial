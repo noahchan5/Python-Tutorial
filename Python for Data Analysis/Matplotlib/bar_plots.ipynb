{
 "cells": [
  {
   "cell_type": "markdown",
   "id": "79ab6c51",
   "metadata": {},
   "source": [
    "# Bar Plots"
   ]
  },
  {
   "cell_type": "markdown",
   "id": "d4b0b169",
   "metadata": {},
   "source": [
    "## Data Preparation"
   ]
  },
  {
   "cell_type": "code",
   "execution_count": 1,
   "id": "cfba0351",
   "metadata": {},
   "outputs": [],
   "source": [
    "import matplotlib.pyplot as plt"
   ]
  },
  {
   "cell_type": "code",
   "execution_count": 2,
   "id": "e09522d7",
   "metadata": {},
   "outputs": [],
   "source": [
    "import pandas as pd"
   ]
  },
  {
   "cell_type": "code",
   "execution_count": 3,
   "id": "fbbe1705",
   "metadata": {},
   "outputs": [],
   "source": [
    "df = pd.read_csv('top_10_countries.csv')"
   ]
  },
  {
   "cell_type": "code",
   "execution_count": 4,
   "id": "ff5ed9a8",
   "metadata": {},
   "outputs": [],
   "source": [
    "# renaming column\n",
    "df.rename(columns={'Country / Dependency':'Country'}, inplace=True)"
   ]
  },
  {
   "cell_type": "code",
   "execution_count": 5,
   "id": "0f9807fd",
   "metadata": {},
   "outputs": [
    {
     "data": {
      "text/html": [
       "<div>\n",
       "<style scoped>\n",
       "    .dataframe tbody tr th:only-of-type {\n",
       "        vertical-align: middle;\n",
       "    }\n",
       "\n",
       "    .dataframe tbody tr th {\n",
       "        vertical-align: top;\n",
       "    }\n",
       "\n",
       "    .dataframe thead th {\n",
       "        text-align: right;\n",
       "    }\n",
       "</style>\n",
       "<table border=\"1\" class=\"dataframe\">\n",
       "  <thead>\n",
       "    <tr style=\"text-align: right;\">\n",
       "      <th></th>\n",
       "      <th>Rank</th>\n",
       "      <th>Country</th>\n",
       "      <th>Region</th>\n",
       "      <th>Population</th>\n",
       "      <th>% of world</th>\n",
       "      <th>Date</th>\n",
       "    </tr>\n",
       "  </thead>\n",
       "  <tbody>\n",
       "    <tr>\n",
       "      <th>0</th>\n",
       "      <td>1</td>\n",
       "      <td>China</td>\n",
       "      <td>Asia</td>\n",
       "      <td>1412600000</td>\n",
       "      <td>17.80%</td>\n",
       "      <td>31-Dec-21</td>\n",
       "    </tr>\n",
       "    <tr>\n",
       "      <th>1</th>\n",
       "      <td>2</td>\n",
       "      <td>India</td>\n",
       "      <td>Asia</td>\n",
       "      <td>1386946912</td>\n",
       "      <td>17.50%</td>\n",
       "      <td>18-Jan-22</td>\n",
       "    </tr>\n",
       "    <tr>\n",
       "      <th>2</th>\n",
       "      <td>3</td>\n",
       "      <td>United States</td>\n",
       "      <td>Americas</td>\n",
       "      <td>333073186</td>\n",
       "      <td>4.20%</td>\n",
       "      <td>18-Jan-22</td>\n",
       "    </tr>\n",
       "    <tr>\n",
       "      <th>3</th>\n",
       "      <td>4</td>\n",
       "      <td>Indonesia</td>\n",
       "      <td>Asia</td>\n",
       "      <td>271350000</td>\n",
       "      <td>3.42%</td>\n",
       "      <td>31-Dec-20</td>\n",
       "    </tr>\n",
       "    <tr>\n",
       "      <th>4</th>\n",
       "      <td>5</td>\n",
       "      <td>Pakistan</td>\n",
       "      <td>Asia</td>\n",
       "      <td>225200000</td>\n",
       "      <td>2.84%</td>\n",
       "      <td>01-Jul-21</td>\n",
       "    </tr>\n",
       "    <tr>\n",
       "      <th>5</th>\n",
       "      <td>6</td>\n",
       "      <td>Brazil</td>\n",
       "      <td>Americas</td>\n",
       "      <td>214231641</td>\n",
       "      <td>2.70%</td>\n",
       "      <td>18-Jan-22</td>\n",
       "    </tr>\n",
       "    <tr>\n",
       "      <th>6</th>\n",
       "      <td>7</td>\n",
       "      <td>Nigeria</td>\n",
       "      <td>Africa</td>\n",
       "      <td>211401000</td>\n",
       "      <td>2.67%</td>\n",
       "      <td>01-Jul-21</td>\n",
       "    </tr>\n",
       "    <tr>\n",
       "      <th>7</th>\n",
       "      <td>8</td>\n",
       "      <td>Bangladesh</td>\n",
       "      <td>Asia</td>\n",
       "      <td>172062576</td>\n",
       "      <td>2.17%</td>\n",
       "      <td>18-Jan-22</td>\n",
       "    </tr>\n",
       "    <tr>\n",
       "      <th>8</th>\n",
       "      <td>9</td>\n",
       "      <td>Russia</td>\n",
       "      <td>Europe</td>\n",
       "      <td>146171015</td>\n",
       "      <td>1.84%</td>\n",
       "      <td>01-Jan-21</td>\n",
       "    </tr>\n",
       "    <tr>\n",
       "      <th>9</th>\n",
       "      <td>10</td>\n",
       "      <td>Mexico</td>\n",
       "      <td>Americas</td>\n",
       "      <td>126014024</td>\n",
       "      <td>1.59%</td>\n",
       "      <td>02-Mar-20</td>\n",
       "    </tr>\n",
       "  </tbody>\n",
       "</table>\n",
       "</div>"
      ],
      "text/plain": [
       "   Rank         Country    Region  Population % of world       Date\n",
       "0     1           China      Asia  1412600000     17.80%  31-Dec-21\n",
       "1     2           India      Asia  1386946912     17.50%  18-Jan-22\n",
       "2     3   United States  Americas   333073186      4.20%  18-Jan-22\n",
       "3     4       Indonesia      Asia   271350000      3.42%  31-Dec-20\n",
       "4     5        Pakistan      Asia   225200000      2.84%  01-Jul-21\n",
       "5     6          Brazil  Americas   214231641      2.70%  18-Jan-22\n",
       "6     7         Nigeria    Africa   211401000      2.67%  01-Jul-21\n",
       "7     8      Bangladesh      Asia   172062576      2.17%  18-Jan-22\n",
       "8     9          Russia    Europe   146171015      1.84%  01-Jan-21\n",
       "9    10          Mexico  Americas   126014024      1.59%  02-Mar-20"
      ]
     },
     "execution_count": 5,
     "metadata": {},
     "output_type": "execute_result"
    }
   ],
   "source": [
    "df"
   ]
  },
  {
   "cell_type": "code",
   "execution_count": 6,
   "id": "b215b481",
   "metadata": {},
   "outputs": [],
   "source": [
    "# creating a new DataFrame object consiting of two columns\n",
    "df_g = df[['Region','Population']]"
   ]
  },
  {
   "cell_type": "code",
   "execution_count": 7,
   "id": "f2641437",
   "metadata": {},
   "outputs": [
    {
     "data": {
      "text/html": [
       "<div>\n",
       "<style scoped>\n",
       "    .dataframe tbody tr th:only-of-type {\n",
       "        vertical-align: middle;\n",
       "    }\n",
       "\n",
       "    .dataframe tbody tr th {\n",
       "        vertical-align: top;\n",
       "    }\n",
       "\n",
       "    .dataframe thead th {\n",
       "        text-align: right;\n",
       "    }\n",
       "</style>\n",
       "<table border=\"1\" class=\"dataframe\">\n",
       "  <thead>\n",
       "    <tr style=\"text-align: right;\">\n",
       "      <th></th>\n",
       "      <th>Region</th>\n",
       "      <th>Population</th>\n",
       "    </tr>\n",
       "  </thead>\n",
       "  <tbody>\n",
       "    <tr>\n",
       "      <th>0</th>\n",
       "      <td>Asia</td>\n",
       "      <td>1412600000</td>\n",
       "    </tr>\n",
       "    <tr>\n",
       "      <th>1</th>\n",
       "      <td>Asia</td>\n",
       "      <td>1386946912</td>\n",
       "    </tr>\n",
       "    <tr>\n",
       "      <th>2</th>\n",
       "      <td>Americas</td>\n",
       "      <td>333073186</td>\n",
       "    </tr>\n",
       "    <tr>\n",
       "      <th>3</th>\n",
       "      <td>Asia</td>\n",
       "      <td>271350000</td>\n",
       "    </tr>\n",
       "    <tr>\n",
       "      <th>4</th>\n",
       "      <td>Asia</td>\n",
       "      <td>225200000</td>\n",
       "    </tr>\n",
       "    <tr>\n",
       "      <th>5</th>\n",
       "      <td>Americas</td>\n",
       "      <td>214231641</td>\n",
       "    </tr>\n",
       "    <tr>\n",
       "      <th>6</th>\n",
       "      <td>Africa</td>\n",
       "      <td>211401000</td>\n",
       "    </tr>\n",
       "    <tr>\n",
       "      <th>7</th>\n",
       "      <td>Asia</td>\n",
       "      <td>172062576</td>\n",
       "    </tr>\n",
       "    <tr>\n",
       "      <th>8</th>\n",
       "      <td>Europe</td>\n",
       "      <td>146171015</td>\n",
       "    </tr>\n",
       "    <tr>\n",
       "      <th>9</th>\n",
       "      <td>Americas</td>\n",
       "      <td>126014024</td>\n",
       "    </tr>\n",
       "  </tbody>\n",
       "</table>\n",
       "</div>"
      ],
      "text/plain": [
       "     Region  Population\n",
       "0      Asia  1412600000\n",
       "1      Asia  1386946912\n",
       "2  Americas   333073186\n",
       "3      Asia   271350000\n",
       "4      Asia   225200000\n",
       "5  Americas   214231641\n",
       "6    Africa   211401000\n",
       "7      Asia   172062576\n",
       "8    Europe   146171015\n",
       "9  Americas   126014024"
      ]
     },
     "execution_count": 7,
     "metadata": {},
     "output_type": "execute_result"
    }
   ],
   "source": [
    "df_g"
   ]
  },
  {
   "cell_type": "code",
   "execution_count": 8,
   "id": "aae0b31b",
   "metadata": {},
   "outputs": [],
   "source": [
    "# group by on Region column, sum aggregation\n",
    "df_g = df_g.groupby(by='Region').sum()"
   ]
  },
  {
   "cell_type": "code",
   "execution_count": 9,
   "id": "6bd070be",
   "metadata": {},
   "outputs": [],
   "source": [
    "# Resetting index of Region to column\n",
    "df_g.reset_index(inplace=True)"
   ]
  },
  {
   "cell_type": "code",
   "execution_count": 10,
   "id": "91058fab",
   "metadata": {},
   "outputs": [
    {
     "data": {
      "text/html": [
       "<div>\n",
       "<style scoped>\n",
       "    .dataframe tbody tr th:only-of-type {\n",
       "        vertical-align: middle;\n",
       "    }\n",
       "\n",
       "    .dataframe tbody tr th {\n",
       "        vertical-align: top;\n",
       "    }\n",
       "\n",
       "    .dataframe thead th {\n",
       "        text-align: right;\n",
       "    }\n",
       "</style>\n",
       "<table border=\"1\" class=\"dataframe\">\n",
       "  <thead>\n",
       "    <tr style=\"text-align: right;\">\n",
       "      <th></th>\n",
       "      <th>Region</th>\n",
       "      <th>Population</th>\n",
       "    </tr>\n",
       "  </thead>\n",
       "  <tbody>\n",
       "    <tr>\n",
       "      <th>0</th>\n",
       "      <td>Africa</td>\n",
       "      <td>211401000</td>\n",
       "    </tr>\n",
       "    <tr>\n",
       "      <th>1</th>\n",
       "      <td>Americas</td>\n",
       "      <td>673318851</td>\n",
       "    </tr>\n",
       "    <tr>\n",
       "      <th>2</th>\n",
       "      <td>Asia</td>\n",
       "      <td>3468159488</td>\n",
       "    </tr>\n",
       "    <tr>\n",
       "      <th>3</th>\n",
       "      <td>Europe</td>\n",
       "      <td>146171015</td>\n",
       "    </tr>\n",
       "  </tbody>\n",
       "</table>\n",
       "</div>"
      ],
      "text/plain": [
       "     Region  Population\n",
       "0    Africa   211401000\n",
       "1  Americas   673318851\n",
       "2      Asia  3468159488\n",
       "3    Europe   146171015"
      ]
     },
     "execution_count": 10,
     "metadata": {},
     "output_type": "execute_result"
    }
   ],
   "source": [
    "df_g"
   ]
  },
  {
   "cell_type": "markdown",
   "id": "f579b2dd",
   "metadata": {},
   "source": [
    "## Bar Plots on Matplotlib\n",
    "https://matplotlib.org/stable/api/_as_gen/matplotlib.pyplot.bar.html"
   ]
  },
  {
   "cell_type": "code",
   "execution_count": 11,
   "id": "1ba9dcea",
   "metadata": {},
   "outputs": [
    {
     "data": {
      "text/plain": [
       "Text(0.5, 1.0, 'Top 10 Countries Population by Region')"
      ]
     },
     "execution_count": 11,
     "metadata": {},
     "output_type": "execute_result"
    },
    {
     "data": {
      "image/png": "[encoded data removed]",
      "text/plain": [
       "<Figure size 360x360 with 1 Axes>"
      ]
     },
     "metadata": {
      "needs_background": "light"
     },
     "output_type": "display_data"
    }
   ],
   "source": [
    "# CREATING  FIGURE OBJECT\n",
    "\n",
    "# plot area\n",
    "fig=plt.figure(figsize=(5,5))\n",
    "\n",
    "# axes\n",
    "axes = fig.add_axes([0,0,1,1])\n",
    "axes.set_xlabel('Region')\n",
    "axes.set_ylabel('Total Population')\n",
    "axes.set_title('Top 10 Countries Population by Region')"
   ]
  },
  {
   "cell_type": "code",
   "execution_count": 12,
   "id": "b207bb1f",
   "metadata": {},
   "outputs": [
    {
     "data": {
      "image/png": "[encoded data removed]",
      "text/plain": [
       "<Figure size 360x360 with 1 Axes>"
      ]
     },
     "metadata": {
      "needs_background": "light"
     },
     "output_type": "display_data"
    }
   ],
   "source": [
    "# ADDING BAR PLOT\n",
    "\n",
    "# plot area\n",
    "fig=plt.figure(figsize=(5,5))\n",
    "\n",
    "# axes\n",
    "axes = fig.add_axes([0,0,1,1])\n",
    "axes.set_xlabel('Region')\n",
    "axes.set_ylabel('Total Population')\n",
    "axes.set_title('Top 10 Countries Population by Region')\n",
    "\n",
    "# bar plot\n",
    "plt.bar(x=df_g['Region'], height=df_g['Population'])\n",
    "\n",
    "plt.show()"
   ]
  },
  {
   "cell_type": "code",
   "execution_count": 13,
   "id": "0c4a8107",
   "metadata": {},
   "outputs": [
    {
     "data": {
      "image/png": "[encoded data removed]",
      "text/plain": [
       "<Figure size 360x360 with 1 Axes>"
      ]
     },
     "metadata": {
      "needs_background": "light"
     },
     "output_type": "display_data"
    }
   ],
   "source": [
    "# ADDING COLOR ARGUMENT TO BAR PLOT\n",
    "\n",
    "# plot area\n",
    "fig=plt.figure(figsize=(5,5))\n",
    "\n",
    "# axes\n",
    "axes = fig.add_axes([0,0,1,1])\n",
    "axes.set_xlabel('Region')\n",
    "axes.set_ylabel('Total Population')\n",
    "axes.set_title('Top 10 Countries Population by Region')\n",
    "\n",
    "# bar plot\n",
    "plt.bar(x=df_g['Region'], height=df_g['Population'], color=['b','r','y','g'], edgecolor='black')\n",
    "\n",
    "plt.show()"
   ]
  },
  {
   "cell_type": "code",
   "execution_count": 14,
   "id": "1b46d04a",
   "metadata": {},
   "outputs": [],
   "source": [
    "df_g.sort_values('Population', ascending=False, inplace=True)"
   ]
  },
  {
   "cell_type": "code",
   "execution_count": 15,
   "id": "a0a52474",
   "metadata": {},
   "outputs": [
    {
     "data": {
      "text/html": [
       "<div>\n",
       "<style scoped>\n",
       "    .dataframe tbody tr th:only-of-type {\n",
       "        vertical-align: middle;\n",
       "    }\n",
       "\n",
       "    .dataframe tbody tr th {\n",
       "        vertical-align: top;\n",
       "    }\n",
       "\n",
       "    .dataframe thead th {\n",
       "        text-align: right;\n",
       "    }\n",
       "</style>\n",
       "<table border=\"1\" class=\"dataframe\">\n",
       "  <thead>\n",
       "    <tr style=\"text-align: right;\">\n",
       "      <th></th>\n",
       "      <th>Region</th>\n",
       "      <th>Population</th>\n",
       "    </tr>\n",
       "  </thead>\n",
       "  <tbody>\n",
       "    <tr>\n",
       "      <th>2</th>\n",
       "      <td>Asia</td>\n",
       "      <td>3468159488</td>\n",
       "    </tr>\n",
       "    <tr>\n",
       "      <th>1</th>\n",
       "      <td>Americas</td>\n",
       "      <td>673318851</td>\n",
       "    </tr>\n",
       "    <tr>\n",
       "      <th>0</th>\n",
       "      <td>Africa</td>\n",
       "      <td>211401000</td>\n",
       "    </tr>\n",
       "    <tr>\n",
       "      <th>3</th>\n",
       "      <td>Europe</td>\n",
       "      <td>146171015</td>\n",
       "    </tr>\n",
       "  </tbody>\n",
       "</table>\n",
       "</div>"
      ],
      "text/plain": [
       "     Region  Population\n",
       "2      Asia  3468159488\n",
       "1  Americas   673318851\n",
       "0    Africa   211401000\n",
       "3    Europe   146171015"
      ]
     },
     "execution_count": 15,
     "metadata": {},
     "output_type": "execute_result"
    }
   ],
   "source": [
    "df_g"
   ]
  },
  {
   "cell_type": "code",
   "execution_count": 16,
   "id": "b00c5c10",
   "metadata": {},
   "outputs": [
    {
     "data": {
      "image/png": "[encoded data removed]",
      "text/plain": [
       "<Figure size 360x360 with 1 Axes>"
      ]
     },
     "metadata": {
      "needs_background": "light"
     },
     "output_type": "display_data"
    }
   ],
   "source": [
    "# SORTED THE POPULATION VALUES IN DESCENDING ORDER\n",
    "\n",
    "# plot area\n",
    "fig=plt.figure(figsize=(5,5))\n",
    "\n",
    "# axes\n",
    "axes = fig.add_axes([0,0,1,1])\n",
    "axes.set_xlabel('Region')\n",
    "axes.set_ylabel('Total Population')\n",
    "axes.set_title('Top 10 Countries Population by Region')\n",
    "\n",
    "# bar plot\n",
    "plt.bar(x=df_g['Region'], height=df_g['Population'], color=['b','r','y','g'], edgecolor='black')\n",
    "\n",
    "plt.show()"
   ]
  },
  {
   "cell_type": "code",
   "execution_count": 17,
   "id": "23ab0e07",
   "metadata": {},
   "outputs": [
    {
     "data": {
      "text/html": [
       "<div>\n",
       "<style scoped>\n",
       "    .dataframe tbody tr th:only-of-type {\n",
       "        vertical-align: middle;\n",
       "    }\n",
       "\n",
       "    .dataframe tbody tr th {\n",
       "        vertical-align: top;\n",
       "    }\n",
       "\n",
       "    .dataframe thead th {\n",
       "        text-align: right;\n",
       "    }\n",
       "</style>\n",
       "<table border=\"1\" class=\"dataframe\">\n",
       "  <thead>\n",
       "    <tr style=\"text-align: right;\">\n",
       "      <th></th>\n",
       "      <th>Rank</th>\n",
       "      <th>Country</th>\n",
       "      <th>Region</th>\n",
       "      <th>Population</th>\n",
       "      <th>% of world</th>\n",
       "      <th>Date</th>\n",
       "    </tr>\n",
       "  </thead>\n",
       "  <tbody>\n",
       "    <tr>\n",
       "      <th>0</th>\n",
       "      <td>1</td>\n",
       "      <td>China</td>\n",
       "      <td>Asia</td>\n",
       "      <td>1412600000</td>\n",
       "      <td>17.80%</td>\n",
       "      <td>31-Dec-21</td>\n",
       "    </tr>\n",
       "    <tr>\n",
       "      <th>1</th>\n",
       "      <td>2</td>\n",
       "      <td>India</td>\n",
       "      <td>Asia</td>\n",
       "      <td>1386946912</td>\n",
       "      <td>17.50%</td>\n",
       "      <td>18-Jan-22</td>\n",
       "    </tr>\n",
       "    <tr>\n",
       "      <th>2</th>\n",
       "      <td>3</td>\n",
       "      <td>United States</td>\n",
       "      <td>Americas</td>\n",
       "      <td>333073186</td>\n",
       "      <td>4.20%</td>\n",
       "      <td>18-Jan-22</td>\n",
       "    </tr>\n",
       "    <tr>\n",
       "      <th>3</th>\n",
       "      <td>4</td>\n",
       "      <td>Indonesia</td>\n",
       "      <td>Asia</td>\n",
       "      <td>271350000</td>\n",
       "      <td>3.42%</td>\n",
       "      <td>31-Dec-20</td>\n",
       "    </tr>\n",
       "    <tr>\n",
       "      <th>4</th>\n",
       "      <td>5</td>\n",
       "      <td>Pakistan</td>\n",
       "      <td>Asia</td>\n",
       "      <td>225200000</td>\n",
       "      <td>2.84%</td>\n",
       "      <td>01-Jul-21</td>\n",
       "    </tr>\n",
       "    <tr>\n",
       "      <th>5</th>\n",
       "      <td>6</td>\n",
       "      <td>Brazil</td>\n",
       "      <td>Americas</td>\n",
       "      <td>214231641</td>\n",
       "      <td>2.70%</td>\n",
       "      <td>18-Jan-22</td>\n",
       "    </tr>\n",
       "    <tr>\n",
       "      <th>6</th>\n",
       "      <td>7</td>\n",
       "      <td>Nigeria</td>\n",
       "      <td>Africa</td>\n",
       "      <td>211401000</td>\n",
       "      <td>2.67%</td>\n",
       "      <td>01-Jul-21</td>\n",
       "    </tr>\n",
       "    <tr>\n",
       "      <th>7</th>\n",
       "      <td>8</td>\n",
       "      <td>Bangladesh</td>\n",
       "      <td>Asia</td>\n",
       "      <td>172062576</td>\n",
       "      <td>2.17%</td>\n",
       "      <td>18-Jan-22</td>\n",
       "    </tr>\n",
       "    <tr>\n",
       "      <th>8</th>\n",
       "      <td>9</td>\n",
       "      <td>Russia</td>\n",
       "      <td>Europe</td>\n",
       "      <td>146171015</td>\n",
       "      <td>1.84%</td>\n",
       "      <td>01-Jan-21</td>\n",
       "    </tr>\n",
       "    <tr>\n",
       "      <th>9</th>\n",
       "      <td>10</td>\n",
       "      <td>Mexico</td>\n",
       "      <td>Americas</td>\n",
       "      <td>126014024</td>\n",
       "      <td>1.59%</td>\n",
       "      <td>02-Mar-20</td>\n",
       "    </tr>\n",
       "  </tbody>\n",
       "</table>\n",
       "</div>"
      ],
      "text/plain": [
       "   Rank         Country    Region  Population % of world       Date\n",
       "0     1           China      Asia  1412600000     17.80%  31-Dec-21\n",
       "1     2           India      Asia  1386946912     17.50%  18-Jan-22\n",
       "2     3   United States  Americas   333073186      4.20%  18-Jan-22\n",
       "3     4       Indonesia      Asia   271350000      3.42%  31-Dec-20\n",
       "4     5        Pakistan      Asia   225200000      2.84%  01-Jul-21\n",
       "5     6          Brazil  Americas   214231641      2.70%  18-Jan-22\n",
       "6     7         Nigeria    Africa   211401000      2.67%  01-Jul-21\n",
       "7     8      Bangladesh      Asia   172062576      2.17%  18-Jan-22\n",
       "8     9          Russia    Europe   146171015      1.84%  01-Jan-21\n",
       "9    10          Mexico  Americas   126014024      1.59%  02-Mar-20"
      ]
     },
     "execution_count": 17,
     "metadata": {},
     "output_type": "execute_result"
    }
   ],
   "source": [
    "df"
   ]
  },
  {
   "cell_type": "code",
   "execution_count": 18,
   "id": "945508fe",
   "metadata": {},
   "outputs": [
    {
     "data": {
      "text/plain": [
       "<BarContainer object of 10 artists>"
      ]
     },
     "execution_count": 18,
     "metadata": {},
     "output_type": "execute_result"
    },
    {
     "data": {
      "image/png": "[encoded data removed]",
      "text/plain": [
       "<Figure size 360x360 with 1 Axes>"
      ]
     },
     "metadata": {
      "needs_background": "light"
     },
     "output_type": "display_data"
    }
   ],
   "source": [
    "# BAR PLOTS IN MATPLOTLIB REQUIRE THE COLUMN ON X AXIS TO BE AT THE LOWEST LEVEL OF DETAIL\n",
    "#.. OTHERWISE THE RECTANGLES OVERLAP EACH OTHER\n",
    "#... THIS IS HANDLED MORE INTUITIVELY IN SEABORN\n",
    "\n",
    "# plot area\n",
    "fig=plt.figure(figsize=(5,5))\n",
    "\n",
    "# axes\n",
    "axes = fig.add_axes([0,0,1,1])\n",
    "axes.set_xlabel('Region')\n",
    "axes.set_ylabel('Total Population')\n",
    "axes.set_title('Top 10 Countries Population by Region')\n",
    "\n",
    "# bar plot\n",
    "plt.bar(x=df['Region'], height=df['Population'], color='white', edgecolor='black')"
   ]
  },
  {
   "cell_type": "markdown",
   "id": "0c774fe4",
   "metadata": {},
   "source": [
    "# Horizontal Bar Plots\n",
    "https://matplotlib.org/stable/api/_as_gen/matplotlib.pyplot.barh.html"
   ]
  },
  {
   "cell_type": "code",
   "execution_count": 19,
   "id": "512d665d",
   "metadata": {},
   "outputs": [
    {
     "data": {
      "image/png": "[encoded data removed]",
      "text/plain": [
       "<Figure size 360x360 with 2 Axes>"
      ]
     },
     "metadata": {
      "needs_background": "light"
     },
     "output_type": "display_data"
    }
   ],
   "source": [
    "# CREATING FIGURE AND AXES OBJECTS\n",
    "\n",
    "# plot area\n",
    "fig = plt.figure(figsize=(5,5))\n",
    "\n",
    "# axes\n",
    "axes1 = fig.add_axes([0,0,1,1])\n",
    "axes2 = fig.add_axes([1.5,0,1,1])"
   ]
  },
  {
   "cell_type": "code",
   "execution_count": 20,
   "id": "e394ef24",
   "metadata": {},
   "outputs": [
    {
     "data": {
      "text/html": [
       "<div>\n",
       "<style scoped>\n",
       "    .dataframe tbody tr th:only-of-type {\n",
       "        vertical-align: middle;\n",
       "    }\n",
       "\n",
       "    .dataframe tbody tr th {\n",
       "        vertical-align: top;\n",
       "    }\n",
       "\n",
       "    .dataframe thead th {\n",
       "        text-align: right;\n",
       "    }\n",
       "</style>\n",
       "<table border=\"1\" class=\"dataframe\">\n",
       "  <thead>\n",
       "    <tr style=\"text-align: right;\">\n",
       "      <th></th>\n",
       "      <th>Region</th>\n",
       "      <th>Population</th>\n",
       "    </tr>\n",
       "  </thead>\n",
       "  <tbody>\n",
       "    <tr>\n",
       "      <th>2</th>\n",
       "      <td>Asia</td>\n",
       "      <td>3468159488</td>\n",
       "    </tr>\n",
       "    <tr>\n",
       "      <th>1</th>\n",
       "      <td>Americas</td>\n",
       "      <td>673318851</td>\n",
       "    </tr>\n",
       "    <tr>\n",
       "      <th>0</th>\n",
       "      <td>Africa</td>\n",
       "      <td>211401000</td>\n",
       "    </tr>\n",
       "    <tr>\n",
       "      <th>3</th>\n",
       "      <td>Europe</td>\n",
       "      <td>146171015</td>\n",
       "    </tr>\n",
       "  </tbody>\n",
       "</table>\n",
       "</div>"
      ],
      "text/plain": [
       "     Region  Population\n",
       "2      Asia  3468159488\n",
       "1  Americas   673318851\n",
       "0    Africa   211401000\n",
       "3    Europe   146171015"
      ]
     },
     "execution_count": 20,
     "metadata": {},
     "output_type": "execute_result"
    }
   ],
   "source": [
    "df_g"
   ]
  },
  {
   "cell_type": "code",
   "execution_count": 21,
   "id": "3f2589d2",
   "metadata": {},
   "outputs": [
    {
     "data": {
      "text/html": [
       "<div>\n",
       "<style scoped>\n",
       "    .dataframe tbody tr th:only-of-type {\n",
       "        vertical-align: middle;\n",
       "    }\n",
       "\n",
       "    .dataframe tbody tr th {\n",
       "        vertical-align: top;\n",
       "    }\n",
       "\n",
       "    .dataframe thead th {\n",
       "        text-align: right;\n",
       "    }\n",
       "</style>\n",
       "<table border=\"1\" class=\"dataframe\">\n",
       "  <thead>\n",
       "    <tr style=\"text-align: right;\">\n",
       "      <th></th>\n",
       "      <th>Rank</th>\n",
       "      <th>Country</th>\n",
       "      <th>Region</th>\n",
       "      <th>Population</th>\n",
       "      <th>% of world</th>\n",
       "      <th>Date</th>\n",
       "    </tr>\n",
       "  </thead>\n",
       "  <tbody>\n",
       "    <tr>\n",
       "      <th>0</th>\n",
       "      <td>1</td>\n",
       "      <td>China</td>\n",
       "      <td>Asia</td>\n",
       "      <td>1412600000</td>\n",
       "      <td>17.80%</td>\n",
       "      <td>31-Dec-21</td>\n",
       "    </tr>\n",
       "    <tr>\n",
       "      <th>1</th>\n",
       "      <td>2</td>\n",
       "      <td>India</td>\n",
       "      <td>Asia</td>\n",
       "      <td>1386946912</td>\n",
       "      <td>17.50%</td>\n",
       "      <td>18-Jan-22</td>\n",
       "    </tr>\n",
       "    <tr>\n",
       "      <th>2</th>\n",
       "      <td>3</td>\n",
       "      <td>United States</td>\n",
       "      <td>Americas</td>\n",
       "      <td>333073186</td>\n",
       "      <td>4.20%</td>\n",
       "      <td>18-Jan-22</td>\n",
       "    </tr>\n",
       "    <tr>\n",
       "      <th>3</th>\n",
       "      <td>4</td>\n",
       "      <td>Indonesia</td>\n",
       "      <td>Asia</td>\n",
       "      <td>271350000</td>\n",
       "      <td>3.42%</td>\n",
       "      <td>31-Dec-20</td>\n",
       "    </tr>\n",
       "    <tr>\n",
       "      <th>4</th>\n",
       "      <td>5</td>\n",
       "      <td>Pakistan</td>\n",
       "      <td>Asia</td>\n",
       "      <td>225200000</td>\n",
       "      <td>2.84%</td>\n",
       "      <td>01-Jul-21</td>\n",
       "    </tr>\n",
       "    <tr>\n",
       "      <th>5</th>\n",
       "      <td>6</td>\n",
       "      <td>Brazil</td>\n",
       "      <td>Americas</td>\n",
       "      <td>214231641</td>\n",
       "      <td>2.70%</td>\n",
       "      <td>18-Jan-22</td>\n",
       "    </tr>\n",
       "    <tr>\n",
       "      <th>6</th>\n",
       "      <td>7</td>\n",
       "      <td>Nigeria</td>\n",
       "      <td>Africa</td>\n",
       "      <td>211401000</td>\n",
       "      <td>2.67%</td>\n",
       "      <td>01-Jul-21</td>\n",
       "    </tr>\n",
       "    <tr>\n",
       "      <th>7</th>\n",
       "      <td>8</td>\n",
       "      <td>Bangladesh</td>\n",
       "      <td>Asia</td>\n",
       "      <td>172062576</td>\n",
       "      <td>2.17%</td>\n",
       "      <td>18-Jan-22</td>\n",
       "    </tr>\n",
       "    <tr>\n",
       "      <th>8</th>\n",
       "      <td>9</td>\n",
       "      <td>Russia</td>\n",
       "      <td>Europe</td>\n",
       "      <td>146171015</td>\n",
       "      <td>1.84%</td>\n",
       "      <td>01-Jan-21</td>\n",
       "    </tr>\n",
       "    <tr>\n",
       "      <th>9</th>\n",
       "      <td>10</td>\n",
       "      <td>Mexico</td>\n",
       "      <td>Americas</td>\n",
       "      <td>126014024</td>\n",
       "      <td>1.59%</td>\n",
       "      <td>02-Mar-20</td>\n",
       "    </tr>\n",
       "  </tbody>\n",
       "</table>\n",
       "</div>"
      ],
      "text/plain": [
       "   Rank         Country    Region  Population % of world       Date\n",
       "0     1           China      Asia  1412600000     17.80%  31-Dec-21\n",
       "1     2           India      Asia  1386946912     17.50%  18-Jan-22\n",
       "2     3   United States  Americas   333073186      4.20%  18-Jan-22\n",
       "3     4       Indonesia      Asia   271350000      3.42%  31-Dec-20\n",
       "4     5        Pakistan      Asia   225200000      2.84%  01-Jul-21\n",
       "5     6          Brazil  Americas   214231641      2.70%  18-Jan-22\n",
       "6     7         Nigeria    Africa   211401000      2.67%  01-Jul-21\n",
       "7     8      Bangladesh      Asia   172062576      2.17%  18-Jan-22\n",
       "8     9          Russia    Europe   146171015      1.84%  01-Jan-21\n",
       "9    10          Mexico  Americas   126014024      1.59%  02-Mar-20"
      ]
     },
     "execution_count": 21,
     "metadata": {},
     "output_type": "execute_result"
    }
   ],
   "source": [
    "df"
   ]
  },
  {
   "cell_type": "code",
   "execution_count": 22,
   "id": "1204ef59",
   "metadata": {},
   "outputs": [
    {
     "data": {
      "text/plain": [
       "<BarContainer object of 10 artists>"
      ]
     },
     "execution_count": 22,
     "metadata": {},
     "output_type": "execute_result"
    },
    {
     "data": {
      "image/png": "[encoded data removed]",
      "text/plain": [
       "<Figure size 1440x576 with 2 Axes>"
      ]
     },
     "metadata": {
      "needs_background": "light"
     },
     "output_type": "display_data"
    }
   ],
   "source": [
    "# creating the figure and axes\n",
    "fig, (ax1,ax2) = plt.subplots(nrows=1,ncols=2, figsize=(20,8))\n",
    "\n",
    "# labels and titles\n",
    "ax1.set_title('Total Population by Region')\n",
    "ax1.set_ylabel('Population')\n",
    "ax1.set_xlabel('Region')\n",
    "\n",
    "ax2.set_title('Total Population by Country')\n",
    "ax2.set_ylabel('Population')\n",
    "ax2.set_xlabel('Country')\n",
    "\n",
    "# bar\n",
    "ax1.bar(x=df_g['Region'], height=df_g['Population'])\n",
    "\n",
    "# barh\n",
    "ax2.barh(y=df['Country'], width=df['Population'])"
   ]
  }
 ],
 "metadata": {
  "kernelspec": {
   "display_name": "Python 3 (ipykernel)",
   "language": "python",
   "name": "python3"
  },
  "language_info": {
   "codemirror_mode": {
    "name": "ipython",
    "version": 3
   },
   "file_extension": ".py",
   "mimetype": "text/x-python",
   "name": "python",
   "nbconvert_exporter": "python",
   "pygments_lexer": "ipython3",
   "version": "3.9.7"
  }
 },
 "nbformat": 4,
 "nbformat_minor": 5
}
